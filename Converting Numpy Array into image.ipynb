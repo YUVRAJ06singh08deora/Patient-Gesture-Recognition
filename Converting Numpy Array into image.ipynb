{
 "cells": [
  {
   "cell_type": "code",
   "execution_count": 1,
   "metadata": {},
   "outputs": [],
   "source": [
    "import numpy as np\n",
    "import matplotlib.pyplot as plt"
   ]
  },
  {
   "cell_type": "code",
   "execution_count": 28,
   "metadata": {},
   "outputs": [],
   "source": [
    "image_data = np.load('0.npy')"
   ]
  },
  {
   "cell_type": "code",
   "execution_count": null,
   "metadata": {},
   "outputs": [],
   "source": []
  },
  {
   "cell_type": "code",
   "execution_count": 29,
   "metadata": {},
   "outputs": [
    {
     "data": {
      "text/plain": [
       "array([ 0.52516681,  0.52708679, -1.00543904, ...,  0.        ,\n",
       "        0.        ,  0.        ])"
      ]
     },
     "execution_count": 29,
     "metadata": {},
     "output_type": "execute_result"
    }
   ],
   "source": [
    "image_data"
   ]
  },
  {
   "cell_type": "code",
   "execution_count": null,
   "metadata": {},
   "outputs": [],
   "source": []
  },
  {
   "cell_type": "code",
   "execution_count": 7,
   "metadata": {},
   "outputs": [],
   "source": [
    "from PIL import Image"
   ]
  },
  {
   "cell_type": "code",
   "execution_count": 9,
   "metadata": {},
   "outputs": [],
   "source": [
    "data = np.load('./Dataset/IHaveFever/0/0.npy')"
   ]
  },
  {
   "cell_type": "code",
   "execution_count": null,
   "metadata": {},
   "outputs": [],
   "source": []
  },
  {
   "cell_type": "code",
   "execution_count": 10,
   "metadata": {},
   "outputs": [],
   "source": [
    "data = (data - np.min(data)) / (np.max(data) - np.min(data)) * 255"
   ]
  },
  {
   "cell_type": "code",
   "execution_count": 11,
   "metadata": {},
   "outputs": [],
   "source": [
    "# Convert numpy array to image\n",
    "img = Image.fromarray(data.astype(np.uint8))"
   ]
  },
  {
   "cell_type": "code",
   "execution_count": 12,
   "metadata": {},
   "outputs": [],
   "source": [
    "img.save('0.jpg')"
   ]
  },
  {
   "cell_type": "code",
   "execution_count": 17,
   "metadata": {},
   "outputs": [],
   "source": [
    "data0 = np.load('./Dataset/IHaveFever/0/0.npy')\n",
    "data1 = np.load('./Dataset/IHaveFever/0/1.npy')\n",
    "data2 = np.load('./Dataset/IHaveFever/0/2.npy')\n",
    "data3 = np.load('./Dataset/IHaveFever/0/3.npy')\n",
    "data4 = np.load('./Dataset/IHaveFever/0/4.npy')\n",
    "data5 = np.load('./Dataset/IHaveFever/0/5.npy')\n",
    "data6 = np.load('./Dataset/IHaveFever/0/6.npy')\n",
    "data7 = np.load('./Dataset/IHaveFever/0/7.npy')\n",
    "data8 = np.load('./Dataset/IHaveFever/0/8.npy')\n",
    "data9 = np.load('./Dataset/IHaveFever/0/9.npy')\n",
    "data10 = np.load('./Dataset/IHaveFever/0/10.npy')\n",
    "data11= np.load('./Dataset/IHaveFever/0/11.npy')\n",
    "data12 = np.load('./Dataset/IHaveFever/0/12.npy')\n",
    "data13 = np.load('./Dataset/IHaveFever/0/13.npy')\n",
    "data14 = np.load('./Dataset/IHaveFever/0/14.npy')\n",
    "data15 = np.load('./Dataset/IHaveFever/0/15.npy')\n",
    "data16= np.load('./Dataset/IHaveFever/0/16.npy')\n",
    "data17 = np.load('./Dataset/IHaveFever/0/17.npy')\n",
    "data18= np.load('./Dataset/IHaveFever/0/18.npy')\n",
    "data19= np.load('./Dataset/IHaveFever/0/19.npy')\n",
    "data20 = np.load('./Dataset/IHaveFever/0/20.npy')\n",
    "data21= np.load('./Dataset/IHaveFever/0/21.npy')\n",
    "data22= np.load('./Dataset/IHaveFever/0/22.npy')\n",
    "data23= np.load('./Dataset/IHaveFever/0/23.npy')\n",
    "data24= np.load('./Dataset/IHaveFever/0/24.npy')\n",
    "data25 = np.load('./Dataset/IHaveFever/0/25.npy')\n",
    "data26= np.load('./Dataset/IHaveFever/0/26.npy')\n",
    "data27= np.load('./Dataset/IHaveFever/0/27.npy')\n",
    "data28= np.load('./Dataset/IHaveFever/0/28.npy')\n",
    "data29= np.load('./Dataset/IHaveFever/0/29.npy')"
   ]
  },
  {
   "cell_type": "code",
   "execution_count": null,
   "metadata": {},
   "outputs": [],
   "source": []
  },
  {
   "cell_type": "code",
   "execution_count": 18,
   "metadata": {},
   "outputs": [],
   "source": [
    "merged_data = np.concatenate((data0,data1, data2, data3,data4,data5,data6,data7,data8,data9,data10,data11,data12,data13,data14,data15,data16,data17,data18,data19,data20,data21,data22,data23,data24,data25,data26,data27,data28,data29), axis=0)"
   ]
  },
  {
   "cell_type": "code",
   "execution_count": 19,
   "metadata": {},
   "outputs": [],
   "source": [
    "np.save('final.npy', merged_data)"
   ]
  },
  {
   "cell_type": "code",
   "execution_count": 22,
   "metadata": {},
   "outputs": [],
   "source": [
    "image_data = np.load('final.npy')"
   ]
  },
  {
   "cell_type": "code",
   "execution_count": 24,
   "metadata": {},
   "outputs": [],
   "source": [
    "data = np.load('final.npy')"
   ]
  },
  {
   "cell_type": "code",
   "execution_count": 25,
   "metadata": {},
   "outputs": [],
   "source": [
    "data = (data - np.min(data)) / (np.max(data) - np.min(data)) * 255"
   ]
  },
  {
   "cell_type": "code",
   "execution_count": 26,
   "metadata": {},
   "outputs": [],
   "source": [
    "img = Image.fromarray(data.astype(np.uint8))"
   ]
  },
  {
   "cell_type": "code",
   "execution_count": 27,
   "metadata": {},
   "outputs": [],
   "source": [
    "img.save('final.jpg')"
   ]
  },
  {
   "cell_type": "code",
   "execution_count": null,
   "metadata": {},
   "outputs": [],
   "source": []
  },
  {
   "cell_type": "code",
   "execution_count": 23,
   "metadata": {},
   "outputs": [
    {
     "data": {
      "text/plain": [
       "array([ 0.4946661 ,  0.66418588, -0.7946552 , ...,  0.        ,\n",
       "        0.        ,  0.        ])"
      ]
     },
     "execution_count": 23,
     "metadata": {},
     "output_type": "execute_result"
    }
   ],
   "source": []
  },
  {
   "cell_type": "code",
   "execution_count": null,
   "metadata": {},
   "outputs": [],
   "source": []
  },
  {
   "cell_type": "code",
   "execution_count": null,
   "metadata": {},
   "outputs": [],
   "source": []
  },
  {
   "cell_type": "code",
   "execution_count": null,
   "metadata": {},
   "outputs": [],
   "source": []
  },
  {
   "cell_type": "code",
   "execution_count": null,
   "metadata": {},
   "outputs": [],
   "source": []
  },
  {
   "cell_type": "code",
   "execution_count": null,
   "metadata": {},
   "outputs": [],
   "source": []
  },
  {
   "cell_type": "code",
   "execution_count": null,
   "metadata": {},
   "outputs": [],
   "source": []
  },
  {
   "cell_type": "code",
   "execution_count": null,
   "metadata": {},
   "outputs": [],
   "source": []
  }
 ],
 "metadata": {
  "kernelspec": {
   "display_name": "Python 3",
   "language": "python",
   "name": "python3"
  },
  "language_info": {
   "codemirror_mode": {
    "name": "ipython",
    "version": 3
   },
   "file_extension": ".py",
   "mimetype": "text/x-python",
   "name": "python",
   "nbconvert_exporter": "python",
   "pygments_lexer": "ipython3",
   "version": "3.8.5"
  }
 },
 "nbformat": 4,
 "nbformat_minor": 4
}
